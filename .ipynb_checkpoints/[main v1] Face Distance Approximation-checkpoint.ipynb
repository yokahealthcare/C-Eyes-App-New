{
 "cells": [
  {
   "cell_type": "markdown",
   "id": "ab7d1bc6",
   "metadata": {},
   "source": [
    "# Face Distance Approximation\n",
    "### Measure The Distance Between Camera and Person Face Ahead"
   ]
  },
  {
   "cell_type": "code",
   "execution_count": null,
   "id": "92dd9ea5",
   "metadata": {},
   "outputs": [],
   "source": [
    "# library\n",
    "import cv2\n",
    "\n",
    "# face detector object\n",
    "face_detector = cv2.CascadeClassifier(cv2.data.haarcascades + 'haarcascade_frontalface_default.xml')\n",
    "\n",
    "# colors\n",
    "GREEN = (0, 255, 0)\n",
    "RED = (0, 0, 255)\n",
    "WHITE = (255, 255, 255)\n",
    "BLACK = (0, 0, 0)"
   ]
  },
  {
   "cell_type": "markdown",
   "id": "2433b21e",
   "metadata": {},
   "source": [
    "## PART 1 : Preparation"
   ]
  },
  {
   "cell_type": "markdown",
   "id": "07c99b34",
   "metadata": {},
   "source": [
    "### Define Constant\n",
    "> `known_distance` : distance from camera to object(face) in centimeter\n",
    ">\n",
    "> `known_width`    : width of the face in the real world or object plane in centimeter\n",
    ">\n",
    "> **data come from** : ref_image.jpg"
   ]
  },
  {
   "cell_type": "code",
   "execution_count": null,
   "id": "c7e82c95",
   "metadata": {},
   "outputs": [],
   "source": [
    "known_distance = 70\n",
    "known_width = 15.5"
   ]
  },
  {
   "cell_type": "markdown",
   "id": "69b49718",
   "metadata": {},
   "source": [
    "### Define Function to Gather Width of Image from Streaming (in pixel)"
   ]
  },
  {
   "cell_type": "code",
   "execution_count": null,
   "id": "399f669d",
   "metadata": {},
   "outputs": [],
   "source": [
    "def get_width_pixel(image):\n",
    "\n",
    "    face_width = 0 # making face width to zero\n",
    "\n",
    "    # converting color image to gray scale image\n",
    "    gray_image = cv2.cvtColor(image, cv2.COLOR_BGR2GRAY)\n",
    "\n",
    "    # detecting face in the image\n",
    "    faces = face_detector.detectMultiScale(gray_image, scaleFactor=1.1, minNeighbors=5)\n",
    "\n",
    "    # looping through the faces detect in the image\n",
    "    # getting coordinates x, y , width and height\n",
    "    for (x, y, h, w) in faces:\n",
    "\n",
    "        # draw the rectangle on the face\n",
    "        cv2.rectangle(image, (x, y), (x+w, y+h), GREEN, 2)\n",
    "\n",
    "        # getting face width in the pixels\n",
    "        face_width = w\n",
    "\n",
    "    # return the face width in pixel\n",
    "    return face_width"
   ]
  },
  {
   "cell_type": "markdown",
   "id": "439a1ca3",
   "metadata": {},
   "source": [
    "### Define Necessary Functions\n",
    "> `get_focal_length()` : getting the focal length\n",
    ">\n",
    "> `get_distance()` : getting the distance respect to object"
   ]
  },
  {
   "cell_type": "code",
   "execution_count": null,
   "id": "c36b2f0d",
   "metadata": {},
   "outputs": [],
   "source": [
    "# focal length finder function\n",
    "def get_focal_length(real_distance, real_width, width_in_rf_image):\n",
    "    # finding the focal length\n",
    "    focal_length = (width_in_rf_image * real_distance) / real_width\n",
    "    return focal_length\n",
    "\n",
    "# distance estimation function\n",
    "def get_distance(focal_length, real_width, width_in_rf_image):\n",
    "    distance = (real_width * focal_length) / width_in_rf_image\n",
    "\n",
    "    # return the distance\n",
    "    return distance"
   ]
  },
  {
   "cell_type": "markdown",
   "id": "be03a0e2",
   "metadata": {},
   "source": [
    "### All Go Function"
   ]
  },
  {
   "cell_type": "code",
   "execution_count": null,
   "id": "f64628e1",
   "metadata": {},
   "outputs": [],
   "source": [
    "def get_face_distance_approx(ref_image, known_distance, known_width, test_image):\n",
    "    # load ref_image with cv2.imread()\n",
    "    ref_image = cv2.imread(ref_image)\n",
    "    \n",
    "    # get the width of pixel from the image\n",
    "    ref_face_width_pixel = get_width_pixel(ref_image)\n",
    "    \n",
    "    # calculate the focal length\n",
    "    focal_length = get_focal_length(known_distance, known_width, face_width_pixel)\n",
    "    \n",
    "    print(f\"Focal Length has been Founded \\t: {focal_length}\\n\")\n",
    "    \n",
    "    \n",
    "    \n",
    "    # load test_image with cv2.imread()\n",
    "    test_image = cv2.imread(test_image)\n",
    "    \n",
    "    # get the width of pixel from the image\n",
    "    test_face_width_pixel = get_width_pixel(test_image)\n",
    "    \n",
    "    if test_face_width_pixel != 0:\n",
    "        # get distance\n",
    "        distance = get_distance(focal_length, known_width, test_face_width_pixel)\n",
    "        \n",
    "        # draw line as background of text\n",
    "        cv2.line(frame, (30, 30), (230, 30), RED, 32)\n",
    "        cv2.line(frame, (30, 30), (230, 30), BLACK, 28)\n",
    "\n",
    "        # Drawing Text on the screen\n",
    "        cv2.putText(\n",
    "            frame, f\"Distance: {round(distance,2)} CM\", (30, 35),\n",
    "        fonts, 0.6, GREEN, 2)\n",
    "    \n",
    "    # show the frame on the screen\n",
    "    cv2.imshow(\"frame\", frame)"
   ]
  },
  {
   "cell_type": "code",
   "execution_count": null,
   "id": "e579164e",
   "metadata": {},
   "outputs": [],
   "source": []
  },
  {
   "cell_type": "code",
   "execution_count": null,
   "id": "6ab871c9",
   "metadata": {},
   "outputs": [],
   "source": []
  }
 ],
 "metadata": {
  "kernelspec": {
   "display_name": "Python 3 (ipykernel)",
   "language": "python",
   "name": "python3"
  },
  "language_info": {
   "codemirror_mode": {
    "name": "ipython",
    "version": 3
   },
   "file_extension": ".py",
   "mimetype": "text/x-python",
   "name": "python",
   "nbconvert_exporter": "python",
   "pygments_lexer": "ipython3",
   "version": "3.10.6"
  }
 },
 "nbformat": 4,
 "nbformat_minor": 5
}
