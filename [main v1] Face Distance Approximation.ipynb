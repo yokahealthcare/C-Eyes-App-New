{
 "cells": [
  {
   "cell_type": "markdown",
   "id": "003681fe",
   "metadata": {},
   "source": [
    "# Face Distance Approximation\n",
    "### Measure The Distance Between Camera and Person Face Ahead"
   ]
  },
  {
   "cell_type": "code",
   "execution_count": 2,
   "id": "f0273caa",
   "metadata": {},
   "outputs": [
    {
     "name": "stdout",
     "output_type": "stream",
     "text": [
      "Requirement already satisfied: opencv-python in /home/erwinyonata/anaconda3/envs/ceyes/lib/python3.11/site-packages (4.8.0.74)\r\n",
      "Requirement already satisfied: numpy>=1.21.2 in /home/erwinyonata/anaconda3/envs/ceyes/lib/python3.11/site-packages (from opencv-python) (1.23.5)\r\n"
     ]
    }
   ],
   "source": [
    "!pip install opencv-python"
   ]
  },
  {
   "cell_type": "code",
   "execution_count": 3,
   "id": "c0d4a4f1",
   "metadata": {},
   "outputs": [
    {
     "ename": "ModuleNotFoundError",
     "evalue": "No module named 'cv2'",
     "output_type": "error",
     "traceback": [
      "\u001b[0;31m---------------------------------------------------------------------------\u001b[0m",
      "\u001b[0;31mModuleNotFoundError\u001b[0m                       Traceback (most recent call last)",
      "Cell \u001b[0;32mIn[3], line 2\u001b[0m\n\u001b[1;32m      1\u001b[0m \u001b[38;5;66;03m# library\u001b[39;00m\n\u001b[0;32m----> 2\u001b[0m \u001b[38;5;28;01mimport\u001b[39;00m \u001b[38;5;21;01mcv2\u001b[39;00m\n\u001b[1;32m      4\u001b[0m \u001b[38;5;66;03m# face detector object\u001b[39;00m\n\u001b[1;32m      5\u001b[0m face_detector \u001b[38;5;241m=\u001b[39m cv2\u001b[38;5;241m.\u001b[39mCascadeClassifier(cv2\u001b[38;5;241m.\u001b[39mdata\u001b[38;5;241m.\u001b[39mhaarcascades \u001b[38;5;241m+\u001b[39m \u001b[38;5;124m'\u001b[39m\u001b[38;5;124mhaarcascade_frontalface_default.xml\u001b[39m\u001b[38;5;124m'\u001b[39m)\n",
      "\u001b[0;31mModuleNotFoundError\u001b[0m: No module named 'cv2'"
     ]
    }
   ],
   "source": [
    "# library\n",
    "import cv2\n",
    "\n",
    "# face detector object\n",
    "face_detector = cv2.CascadeClassifier(cv2.data.haarcascades + 'haarcascade_frontalface_default.xml')\n",
    "\n",
    "# colors\n",
    "GREEN = (0, 255, 0)\n",
    "RED = (0, 0, 255)\n",
    "WHITE = (255, 255, 255)\n",
    "BLACK = (0, 0, 0)"
   ]
  },
  {
   "cell_type": "markdown",
   "id": "e5ef0506",
   "metadata": {},
   "source": [
    "## PART 1 : Preparation"
   ]
  },
  {
   "cell_type": "markdown",
   "id": "7d260fec",
   "metadata": {},
   "source": [
    "### Define Constant\n",
    "> `known_distance` : distance from camera to object(face) in centimeter\n",
    ">\n",
    "> `known_width`    : width of the face in the real world or object plane in centimeter\n",
    ">\n",
    "> **data come from** : ref_image.jpg"
   ]
  },
  {
   "cell_type": "code",
   "execution_count": null,
   "id": "7910cccc",
   "metadata": {},
   "outputs": [],
   "source": [
    "known_distance = 70\n",
    "known_width = 15.5"
   ]
  },
  {
   "cell_type": "markdown",
   "id": "ff2728b7",
   "metadata": {},
   "source": [
    "### Define Function to Gather Width of Image from Streaming (in pixel)"
   ]
  },
  {
   "cell_type": "code",
   "execution_count": null,
   "id": "ea77c03f",
   "metadata": {},
   "outputs": [],
   "source": [
    "def get_width_pixel(image):\n",
    "\n",
    "    face_width = 0 # making face width to zero\n",
    "\n",
    "    # converting color image to gray scale image\n",
    "    gray_image = cv2.cvtColor(image, cv2.COLOR_BGR2GRAY)\n",
    "\n",
    "    # detecting face in the image\n",
    "    faces = face_detector.detectMultiScale(gray_image, scaleFactor=1.1, minNeighbors=5)\n",
    "\n",
    "    # looping through the faces detect in the image\n",
    "    # getting coordinates x, y , width and height\n",
    "    for (x, y, h, w) in faces:\n",
    "\n",
    "        # draw the rectangle on the face\n",
    "        cv2.rectangle(image, (x, y), (x+w, y+h), GREEN, 2)\n",
    "\n",
    "        # getting face width in the pixels\n",
    "        face_width = w\n",
    "\n",
    "    # return the face width in pixel\n",
    "    return face_width"
   ]
  },
  {
   "cell_type": "markdown",
   "id": "4c3b4fcf",
   "metadata": {},
   "source": [
    "### Define Necessary Functions\n",
    "> `get_focal_length()` : getting the focal length\n",
    ">\n",
    "> `get_distance()` : getting the distance respect to object"
   ]
  },
  {
   "cell_type": "code",
   "execution_count": null,
   "id": "f55f1471",
   "metadata": {},
   "outputs": [],
   "source": [
    "# focal length finder function\n",
    "def get_focal_length(real_distance, real_width, width_in_rf_image):\n",
    "    # finding the focal length\n",
    "    focal_length = (width_in_rf_image * real_distance) / real_width\n",
    "    return focal_length\n",
    "\n",
    "# distance estimation function\n",
    "def get_distance(focal_length, real_width, width_in_rf_image):\n",
    "    distance = (real_width * focal_length) / width_in_rf_image\n",
    "\n",
    "    # return the distance\n",
    "    return distance"
   ]
  },
  {
   "cell_type": "markdown",
   "id": "415f5290",
   "metadata": {},
   "source": [
    "### All Go Function"
   ]
  },
  {
   "cell_type": "code",
   "execution_count": null,
   "id": "e7c02972",
   "metadata": {},
   "outputs": [],
   "source": [
    "def get_face_distance_approx(ref_image, known_distance, known_width, test_image):\n",
    "    # load ref_image with cv2.imread()\n",
    "    ref_image = cv2.imread(ref_image)\n",
    "    \n",
    "    # get the width of pixel from the image\n",
    "    ref_face_width_pixel = get_width_pixel(ref_image)\n",
    "    \n",
    "    # calculate the focal length\n",
    "    focal_length = get_focal_length(known_distance, known_width, face_width_pixel)\n",
    "    \n",
    "    print(f\"Focal Length has been Founded \\t: {focal_length}\\n\")\n",
    "    \n",
    "    \n",
    "    \n",
    "    # load test_image with cv2.imread()\n",
    "    test_image = cv2.imread(test_image)\n",
    "    \n",
    "    # get the width of pixel from the image\n",
    "    test_face_width_pixel = get_width_pixel(test_image)\n",
    "    \n",
    "    if test_face_width_pixel != 0:\n",
    "        # get distance\n",
    "        distance = get_distance(focal_length, known_width, test_face_width_pixel)\n",
    "        \n",
    "        # draw line as background of text\n",
    "        cv2.line(frame, (30, 30), (230, 30), RED, 32)\n",
    "        cv2.line(frame, (30, 30), (230, 30), BLACK, 28)\n",
    "\n",
    "        # Drawing Text on the screen\n",
    "        cv2.putText(\n",
    "            frame, f\"Distance: {round(distance,2)} CM\", (30, 35),\n",
    "        fonts, 0.6, GREEN, 2)\n",
    "    \n",
    "    # show the frame on the screen\n",
    "    cv2.imshow(\"frame\", frame)"
   ]
  },
  {
   "cell_type": "markdown",
   "id": "0c2c1abb",
   "metadata": {},
   "source": [
    "## PART 2 : Deep Learning"
   ]
  },
  {
   "cell_type": "code",
   "execution_count": null,
   "id": "58f7febe",
   "metadata": {},
   "outputs": [],
   "source": []
  }
 ],
 "metadata": {
  "kernelspec": {
   "display_name": "Python 3 (ipykernel)",
   "language": "python",
   "name": "python3"
  },
  "language_info": {
   "codemirror_mode": {
    "name": "ipython",
    "version": 3
   },
   "file_extension": ".py",
   "mimetype": "text/x-python",
   "name": "python",
   "nbconvert_exporter": "python",
   "pygments_lexer": "ipython3",
   "version": "3.10.6"
  }
 },
 "nbformat": 4,
 "nbformat_minor": 5
}
